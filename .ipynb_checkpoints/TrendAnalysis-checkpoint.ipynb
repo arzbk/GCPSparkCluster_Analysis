{
 "cells": [
  {
   "cell_type": "code",
   "execution_count": null,
   "metadata": {},
   "outputs": [],
   "source": [
    "import sys\n",
    "import pandas as pd\n",
    "from datetime import datetime\n",
    "from tqdm.notebook import tqdm\n",
    "from pyspark.sql import SparkSession\n",
    "from pyspark.sql import functions as F\n",
    "from pyspark.sql.window import Window\n",
    "from pyspark.ml.feature import StringIndexer, VectorAssembler\n",
    "from pyspark.ml import Pipeline\n"
   ]
  },
  {
   "cell_type": "code",
   "execution_count": null,
   "metadata": {},
   "outputs": [],
   "source": [
    "# Initialize Spark session\n",
    "spark = SparkSession.builder.appName(\"OHLCV Analysis\").getOrCreate()\n",
    "spark.conf.set(\"spark.sql.repl.eagerEval.enabled\", True)\n"
   ]
  },
  {
   "cell_type": "code",
   "execution_count": null,
   "metadata": {},
   "outputs": [],
   "source": []
  },
  {
   "cell_type": "code",
   "execution_count": null,
   "metadata": {},
   "outputs": [],
   "source": [
    "# Location of bucket that contains market data parquet files\n",
    "\n",
    "\n",
    "# Read prices parquet file into a DataFrame (OHLCV market data)\n",
    "parquet_file_path = \"../../raw_data/sharadar.sep.parquet\"\n",
    "df = spark.read.parquet(parquet_file_path)\n",
    "\n",
    "# Read ticker metadata file into a Dataframe (company information)\n",
    "parquet_file_path = \"../../raw_data/sharadar.tickers.parquet\"\n",
    "df_t = spark.read.parquet(parquet_file_path)\n",
    "df_t = df_t.withColumnRenamed('ticker', 'ticker2')\n",
    "for col in [column for column in df_t.columns if column not in ['exchange', ',currency', 'category', 'sector', 'industry', 'ticker2']]:\n",
    "    df_t = df_t.drop(col)"
   ]
  }
 ],
 "metadata": {
  "kernelspec": {
   "display_name": "Python 3",
   "language": "python",
   "name": "python3"
  },
  "language_info": {
   "codemirror_mode": {
    "name": "ipython",
    "version": 3
   },
   "file_extension": ".py",
   "mimetype": "text/x-python",
   "name": "python",
   "nbconvert_exporter": "python",
   "pygments_lexer": "ipython3",
   "version": "3.6.13"
  }
 },
 "nbformat": 4,
 "nbformat_minor": 2
}
